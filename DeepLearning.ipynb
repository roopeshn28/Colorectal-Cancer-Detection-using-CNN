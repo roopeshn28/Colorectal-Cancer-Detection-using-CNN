{
 "cells": [
  {
   "cell_type": "code",
   "execution_count": 1,
   "metadata": {},
   "outputs": [
    {
     "name": "stderr",
     "output_type": "stream",
     "text": [
      "Using TensorFlow backend.\n"
     ]
    }
   ],
   "source": [
    "from __future__ import absolute_import ,division,print_function\n",
    "import os\n",
    "import numpy as np \n",
    "import pandas as pd \n",
    "import tensorflow as tf\n",
    "\n",
    "from tensorflow import keras\n",
    "from keras.layers import Conv2D,MaxPool2D,Dense,Dropout,Flatten\n",
    "from keras.models import Sequential\n",
    "from keras.preprocessing.image import ImageDataGenerator\n",
    "\n",
    "import matplotlib.pyplot as plt\n",
    "import seaborn as sns\n",
    "\n",
    "import warnings\n",
    "warnings.filterwarnings(\"ignore\")\n",
    "tf.__version__\n",
    "from sklearn.metrics import confusion_matrix\n"
   ]
  },
  {
   "cell_type": "code",
   "execution_count": 2,
   "metadata": {},
   "outputs": [],
   "source": [
    "class Net(tf.keras.Model):\n",
    "  \"\"\"A simple linear model.\"\"\"\n",
    "\n",
    "  def __init__(self):\n",
    "    super(Net, self).__init__()\n",
    "    self.l1 = tf.keras.layers.Dense(5)\n",
    "\n",
    "  def call(self, x):\n",
    "    return self.l1(x)"
   ]
  },
  {
   "cell_type": "code",
   "execution_count": 3,
   "metadata": {},
   "outputs": [],
   "source": [
    "net = Net()"
   ]
  },
  {
   "cell_type": "code",
   "execution_count": 4,
   "metadata": {},
   "outputs": [],
   "source": [
    "net.save_weights('easy_checkpoint')"
   ]
  },
  {
   "cell_type": "code",
   "execution_count": 5,
   "metadata": {},
   "outputs": [],
   "source": [
    "data = pd.read_csv(\"/home/roopesh/PythonFiles/colorectal-histology-mnist/hmnist_64_64_L.csv\")    "
   ]
  },
  {
   "cell_type": "code",
   "execution_count": 6,
   "metadata": {},
   "outputs": [
    {
     "data": {
      "text/html": [
       "<div>\n",
       "<style scoped>\n",
       "    .dataframe tbody tr th:only-of-type {\n",
       "        vertical-align: middle;\n",
       "    }\n",
       "\n",
       "    .dataframe tbody tr th {\n",
       "        vertical-align: top;\n",
       "    }\n",
       "\n",
       "    .dataframe thead th {\n",
       "        text-align: right;\n",
       "    }\n",
       "</style>\n",
       "<table border=\"1\" class=\"dataframe\">\n",
       "  <thead>\n",
       "    <tr style=\"text-align: right;\">\n",
       "      <th></th>\n",
       "      <th>pixel0000</th>\n",
       "      <th>pixel0001</th>\n",
       "      <th>pixel0002</th>\n",
       "      <th>pixel0003</th>\n",
       "      <th>pixel0004</th>\n",
       "      <th>pixel0005</th>\n",
       "      <th>pixel0006</th>\n",
       "      <th>pixel0007</th>\n",
       "      <th>pixel0008</th>\n",
       "      <th>pixel0009</th>\n",
       "      <th>...</th>\n",
       "      <th>pixel4087</th>\n",
       "      <th>pixel4088</th>\n",
       "      <th>pixel4089</th>\n",
       "      <th>pixel4090</th>\n",
       "      <th>pixel4091</th>\n",
       "      <th>pixel4092</th>\n",
       "      <th>pixel4093</th>\n",
       "      <th>pixel4094</th>\n",
       "      <th>pixel4095</th>\n",
       "      <th>label</th>\n",
       "    </tr>\n",
       "  </thead>\n",
       "  <tbody>\n",
       "    <tr>\n",
       "      <th>0</th>\n",
       "      <td>134</td>\n",
       "      <td>99</td>\n",
       "      <td>119</td>\n",
       "      <td>130</td>\n",
       "      <td>142</td>\n",
       "      <td>169</td>\n",
       "      <td>152</td>\n",
       "      <td>139</td>\n",
       "      <td>117</td>\n",
       "      <td>87</td>\n",
       "      <td>...</td>\n",
       "      <td>112</td>\n",
       "      <td>89</td>\n",
       "      <td>73</td>\n",
       "      <td>100</td>\n",
       "      <td>120</td>\n",
       "      <td>120</td>\n",
       "      <td>126</td>\n",
       "      <td>140</td>\n",
       "      <td>195</td>\n",
       "      <td>2</td>\n",
       "    </tr>\n",
       "    <tr>\n",
       "      <th>1</th>\n",
       "      <td>55</td>\n",
       "      <td>64</td>\n",
       "      <td>74</td>\n",
       "      <td>63</td>\n",
       "      <td>74</td>\n",
       "      <td>75</td>\n",
       "      <td>71</td>\n",
       "      <td>73</td>\n",
       "      <td>70</td>\n",
       "      <td>77</td>\n",
       "      <td>...</td>\n",
       "      <td>79</td>\n",
       "      <td>85</td>\n",
       "      <td>86</td>\n",
       "      <td>77</td>\n",
       "      <td>68</td>\n",
       "      <td>66</td>\n",
       "      <td>65</td>\n",
       "      <td>68</td>\n",
       "      <td>69</td>\n",
       "      <td>2</td>\n",
       "    </tr>\n",
       "    <tr>\n",
       "      <th>2</th>\n",
       "      <td>114</td>\n",
       "      <td>116</td>\n",
       "      <td>136</td>\n",
       "      <td>152</td>\n",
       "      <td>132</td>\n",
       "      <td>100</td>\n",
       "      <td>151</td>\n",
       "      <td>150</td>\n",
       "      <td>127</td>\n",
       "      <td>205</td>\n",
       "      <td>...</td>\n",
       "      <td>128</td>\n",
       "      <td>157</td>\n",
       "      <td>159</td>\n",
       "      <td>205</td>\n",
       "      <td>182</td>\n",
       "      <td>143</td>\n",
       "      <td>129</td>\n",
       "      <td>89</td>\n",
       "      <td>122</td>\n",
       "      <td>2</td>\n",
       "    </tr>\n",
       "    <tr>\n",
       "      <th>3</th>\n",
       "      <td>86</td>\n",
       "      <td>82</td>\n",
       "      <td>88</td>\n",
       "      <td>85</td>\n",
       "      <td>103</td>\n",
       "      <td>93</td>\n",
       "      <td>98</td>\n",
       "      <td>109</td>\n",
       "      <td>104</td>\n",
       "      <td>115</td>\n",
       "      <td>...</td>\n",
       "      <td>79</td>\n",
       "      <td>80</td>\n",
       "      <td>109</td>\n",
       "      <td>128</td>\n",
       "      <td>89</td>\n",
       "      <td>85</td>\n",
       "      <td>80</td>\n",
       "      <td>63</td>\n",
       "      <td>48</td>\n",
       "      <td>2</td>\n",
       "    </tr>\n",
       "    <tr>\n",
       "      <th>4</th>\n",
       "      <td>168</td>\n",
       "      <td>143</td>\n",
       "      <td>140</td>\n",
       "      <td>139</td>\n",
       "      <td>129</td>\n",
       "      <td>123</td>\n",
       "      <td>123</td>\n",
       "      <td>141</td>\n",
       "      <td>137</td>\n",
       "      <td>101</td>\n",
       "      <td>...</td>\n",
       "      <td>231</td>\n",
       "      <td>199</td>\n",
       "      <td>183</td>\n",
       "      <td>195</td>\n",
       "      <td>179</td>\n",
       "      <td>134</td>\n",
       "      <td>142</td>\n",
       "      <td>158</td>\n",
       "      <td>149</td>\n",
       "      <td>2</td>\n",
       "    </tr>\n",
       "  </tbody>\n",
       "</table>\n",
       "<p>5 rows × 4097 columns</p>\n",
       "</div>"
      ],
      "text/plain": [
       "   pixel0000  pixel0001  pixel0002  pixel0003  pixel0004  pixel0005  \\\n",
       "0        134         99        119        130        142        169   \n",
       "1         55         64         74         63         74         75   \n",
       "2        114        116        136        152        132        100   \n",
       "3         86         82         88         85        103         93   \n",
       "4        168        143        140        139        129        123   \n",
       "\n",
       "   pixel0006  pixel0007  pixel0008  pixel0009  ...  pixel4087  pixel4088  \\\n",
       "0        152        139        117         87  ...        112         89   \n",
       "1         71         73         70         77  ...         79         85   \n",
       "2        151        150        127        205  ...        128        157   \n",
       "3         98        109        104        115  ...         79         80   \n",
       "4        123        141        137        101  ...        231        199   \n",
       "\n",
       "   pixel4089  pixel4090  pixel4091  pixel4092  pixel4093  pixel4094  \\\n",
       "0         73        100        120        120        126        140   \n",
       "1         86         77         68         66         65         68   \n",
       "2        159        205        182        143        129         89   \n",
       "3        109        128         89         85         80         63   \n",
       "4        183        195        179        134        142        158   \n",
       "\n",
       "   pixel4095  label  \n",
       "0        195      2  \n",
       "1         69      2  \n",
       "2        122      2  \n",
       "3         48      2  \n",
       "4        149      2  \n",
       "\n",
       "[5 rows x 4097 columns]"
      ]
     },
     "execution_count": 6,
     "metadata": {},
     "output_type": "execute_result"
    }
   ],
   "source": [
    "data.head() "
   ]
  },
  {
   "cell_type": "code",
   "execution_count": 7,
   "metadata": {},
   "outputs": [],
   "source": [
    "Y = data[\"label\"]\n",
    "data.drop([\"label\"],axis=1, inplace=True)\n",
    "X = data"
   ]
  },
  {
   "cell_type": "code",
   "execution_count": 8,
   "metadata": {},
   "outputs": [
    {
     "data": {
      "image/png": "[encoded data removed]",
      "text/plain": [
       "<Figure size 1080x504 with 1 Axes>"
      ]
     },
     "metadata": {
      "needs_background": "light"
     },
     "output_type": "display_data"
    }
   ],
   "source": [
    "plt.figure(figsize=(15,7))\n",
    "g = sns.countplot(Y, palette=\"winter_r\")\n",
    "plt.suptitle(\"Amount of each classes\")\n",
    "plt.show()"
   ]
  },
  {
   "cell_type": "code",
   "execution_count": 9,
   "metadata": {},
   "outputs": [
    {
     "data": {
      "text/plain": [
       "7    625\n",
       "3    625\n",
       "6    625\n",
       "2    625\n",
       "5    625\n",
       "1    625\n",
       "8    625\n",
       "4    625\n",
       "Name: label, dtype: int64"
      ]
     },
     "execution_count": 9,
     "metadata": {},
     "output_type": "execute_result"
    }
   ],
   "source": [
    "Y.value_counts()     "
   ]
  },
  {
   "cell_type": "code",
   "execution_count": 10,
   "metadata": {},
   "outputs": [],
   "source": [
    "X = X / 255.0 "
   ]
  },
  {
   "cell_type": "code",
   "execution_count": 11,
   "metadata": {},
   "outputs": [
    {
     "data": {
      "image/png": "[encoded data removed]",
      "text/plain": [
       "<Figure size 432x288 with 1 Axes>"
      ]
     },
     "metadata": {
      "needs_background": "light"
     },
     "output_type": "display_data"
    }
   ],
   "source": [
    "img = X.iloc[75].to_numpy()\n",
    "img = img.reshape(64,64)\n",
    "plt.imshow(img)\n",
    "plt.suptitle(\"An example of image on the dataset\")\n",
    "plt.show()"
   ]
  },
  {
   "cell_type": "code",
   "execution_count": 12,
   "metadata": {},
   "outputs": [],
   "source": [
    "X = X.values.reshape(-1,64,64,1)       # shaping for the Keras\n",
    "Y = Y.values"
   ]
  },
  {
   "cell_type": "code",
   "execution_count": 13,
   "metadata": {},
   "outputs": [],
   "source": [
    "# Label Encoding \n",
    "from keras.utils.np_utils import to_categorical # convert to one-hot-encoding for better results\n",
    "Y = to_categorical(Y)"
   ]
  },
  {
   "cell_type": "code",
   "execution_count": 14,
   "metadata": {},
   "outputs": [],
   "source": [
    "# Splitting train and test\n",
    "from sklearn.model_selection import train_test_split\n",
    "x_train, x_val, y_train, y_val = train_test_split(X, Y, test_size = 0.2, random_state=42)"
   ]
  },
  {
   "cell_type": "code",
   "execution_count": 15,
   "metadata": {},
   "outputs": [
    {
     "name": "stdout",
     "output_type": "stream",
     "text": [
      "x_train.shape:  (4000, 64, 64, 1)\n",
      "x_val.shape:  (1000, 64, 64, 1)\n",
      "y_train.shape:  (4000, 9)\n",
      "y_val.shape:  (1000, 9)\n"
     ]
    }
   ],
   "source": [
    "print(\"x_train.shape: \",x_train.shape)\n",
    "print(\"x_val.shape: \",x_val.shape)\n",
    "print(\"y_train.shape: \",y_train.shape)\n",
    "print(\"y_val.shape: \",y_val.shape)"
   ]
  },
  {
   "cell_type": "code",
   "execution_count": 16,
   "metadata": {},
   "outputs": [
    {
     "name": "stdout",
     "output_type": "stream",
     "text": [
      "Model: \"sequential_1\"\n",
      "_________________________________________________________________\n",
      "Layer (type)                 Output Shape              Param #   \n",
      "=================================================================\n",
      "conv2d_1 (Conv2D)            (None, 64, 64, 128)       3328      \n",
      "_________________________________________________________________\n",
      "max_pooling2d_1 (MaxPooling2 (None, 32, 32, 128)       0         \n",
      "_________________________________________________________________\n",
      "dropout_1 (Dropout)          (None, 32, 32, 128)       0         \n",
      "_________________________________________________________________\n",
      "conv2d_2 (Conv2D)            (None, 32, 32, 64)        73792     \n",
      "_________________________________________________________________\n",
      "max_pooling2d_2 (MaxPooling2 (None, 16, 16, 64)        0         \n",
      "_________________________________________________________________\n",
      "dropout_2 (Dropout)          (None, 16, 16, 64)        0         \n",
      "_________________________________________________________________\n",
      "conv2d_3 (Conv2D)            (None, 16, 16, 64)        36928     \n",
      "_________________________________________________________________\n",
      "max_pooling2d_3 (MaxPooling2 (None, 8, 8, 64)          0         \n",
      "_________________________________________________________________\n",
      "dropout_3 (Dropout)          (None, 8, 8, 64)          0         \n",
      "_________________________________________________________________\n",
      "flatten_1 (Flatten)          (None, 4096)              0         \n",
      "_________________________________________________________________\n",
      "dense_1 (Dense)              (None, 256)               1048832   \n",
      "_________________________________________________________________\n",
      "dense_2 (Dense)              (None, 64)                16448     \n",
      "_________________________________________________________________\n",
      "dense_3 (Dense)              (None, 32)                2080      \n",
      "_________________________________________________________________\n",
      "dense_4 (Dense)              (None, 9)                 297       \n",
      "=================================================================\n",
      "Total params: 1,181,705\n",
      "Trainable params: 1,181,705\n",
      "Non-trainable params: 0\n",
      "_________________________________________________________________\n"
     ]
    }
   ],
   "source": [
    "def create_model():\n",
    "    model = Sequential()\n",
    "\n",
    "    model.add(Conv2D(filters = 128, kernel_size = (5,5),padding = 'same',activation ='relu', input_shape = (64,64,1)))\n",
    "    model.add(MaxPool2D(pool_size=(2,2)))\n",
    "    model.add(Dropout(0.25))\n",
    "\n",
    "    model.add(Conv2D(filters = 64, kernel_size = (3,3),padding = 'same',activation ='relu'))\n",
    "    model.add(MaxPool2D(pool_size=(2,2)))\n",
    "    model.add(Dropout(0.25))\n",
    "\n",
    "    model.add(Conv2D(filters = 64, kernel_size = (3,3),padding = 'same',activation ='relu'))\n",
    "    model.add(MaxPool2D(pool_size=(2,2)))\n",
    "    model.add(Dropout(0.25))\n",
    "\n",
    "    model.add(Flatten())\n",
    "\n",
    "    model.add(Dense(256,activation = \"relu\"))          \n",
    "    model.add(Dense(64,activation = \"relu\"))\n",
    "    model.add(Dense(32,activation = \"relu\"))\n",
    "\n",
    "    model.add(Dense(9, activation = \"softmax\"))\n",
    "    model.compile(optimizer = \"Adam\" , loss = \"categorical_crossentropy\", metrics=[\"accuracy\"])\n",
    "    return model\n",
    "model=create_model()\n",
    "model.summary()"
   ]
  },
  {
   "cell_type": "code",
   "execution_count": 18,
   "metadata": {
    "scrolled": true
   },
   "outputs": [
    {
     "name": "stdout",
     "output_type": "stream",
     "text": [
      "Epoch 1/21\n",
      "200/200 [==============================] - 1230s 6s/step - loss: 1.3107 - accuracy: 0.4347 - val_loss: 1.0814 - val_accuracy: 0.5460\n",
      "Epoch 2/21\n",
      "200/200 [==============================] - 1249s 6s/step - loss: 0.9630 - accuracy: 0.6072 - val_loss: 1.0180 - val_accuracy: 0.6220\n",
      "Epoch 3/21\n",
      "200/200 [==============================] - 1235s 6s/step - loss: 0.8869 - accuracy: 0.6446 - val_loss: 0.7681 - val_accuracy: 0.7140\n",
      "Epoch 4/21\n",
      "200/200 [==============================] - 1225s 6s/step - loss: 0.8575 - accuracy: 0.6626 - val_loss: 0.9691 - val_accuracy: 0.6500\n",
      "Epoch 5/21\n",
      "200/200 [==============================] - 1236s 6s/step - loss: 0.8176 - accuracy: 0.6790 - val_loss: 0.9844 - val_accuracy: 0.6260\n",
      "Epoch 6/21\n",
      "200/200 [==============================] - 1238s 6s/step - loss: 0.8193 - accuracy: 0.6709 - val_loss: 0.8332 - val_accuracy: 0.6840\n",
      "Epoch 7/21\n",
      "200/200 [==============================] - 1273s 6s/step - loss: 0.7873 - accuracy: 0.6932 - val_loss: 1.1086 - val_accuracy: 0.6130\n",
      "Epoch 8/21\n",
      "200/200 [==============================] - 1241s 6s/step - loss: 0.7441 - accuracy: 0.7104 - val_loss: 0.7103 - val_accuracy: 0.7380\n",
      "Epoch 9/21\n",
      "200/200 [==============================] - 1255s 6s/step - loss: 0.6803 - accuracy: 0.7398 - val_loss: 0.6703 - val_accuracy: 0.7490\n",
      "Epoch 10/21\n",
      "200/200 [==============================] - 1235s 6s/step - loss: 0.6515 - accuracy: 0.7547 - val_loss: 0.6030 - val_accuracy: 0.7730\n",
      "Epoch 11/21\n",
      "200/200 [==============================] - 1229s 6s/step - loss: 0.6562 - accuracy: 0.7527 - val_loss: 0.6444 - val_accuracy: 0.7660\n",
      "Epoch 12/21\n",
      "200/200 [==============================] - 1237s 6s/step - loss: 0.6158 - accuracy: 0.7687 - val_loss: 0.5836 - val_accuracy: 0.7700\n",
      "Epoch 13/21\n",
      "200/200 [==============================] - 1243s 6s/step - loss: 0.5779 - accuracy: 0.7803 - val_loss: 0.7424 - val_accuracy: 0.7380\n",
      "Epoch 14/21\n",
      "200/200 [==============================] - 1243s 6s/step - loss: 0.5876 - accuracy: 0.7765 - val_loss: 0.5890 - val_accuracy: 0.7720\n",
      "Epoch 15/21\n",
      "200/200 [==============================] - 1238s 6s/step - loss: 0.5879 - accuracy: 0.7810 - val_loss: 0.4675 - val_accuracy: 0.8160\n",
      "Epoch 16/21\n",
      "200/200 [==============================] - 1240s 6s/step - loss: 0.5543 - accuracy: 0.7927 - val_loss: 0.4978 - val_accuracy: 0.8240\n",
      "Epoch 17/21\n",
      "200/200 [==============================] - 1239s 6s/step - loss: 0.5654 - accuracy: 0.7883 - val_loss: 0.4532 - val_accuracy: 0.8520\n",
      "Epoch 18/21\n",
      "200/200 [==============================] - 1232s 6s/step - loss: 0.5489 - accuracy: 0.7956 - val_loss: 0.6062 - val_accuracy: 0.7810\n",
      "Epoch 19/21\n",
      "200/200 [==============================] - 1228s 6s/step - loss: 0.5280 - accuracy: 0.8020 - val_loss: 0.5321 - val_accuracy: 0.8150\n",
      "Epoch 20/21\n",
      "200/200 [==============================] - 1231s 6s/step - loss: 0.5320 - accuracy: 0.8003 - val_loss: 0.4897 - val_accuracy: 0.8180\n",
      "Epoch 21/21\n",
      "200/200 [==============================] - 1408s 7s/step - loss: 0.5313 - accuracy: 0.8006 - val_loss: 0.5503 - val_accuracy: 0.7980\n"
     ]
    },
    {
     "data": {
      "text/plain": [
       "<keras.callbacks.callbacks.History at 0x7fde8d787dd0>"
      ]
     },
     "execution_count": 18,
     "metadata": {},
     "output_type": "execute_result"
    }
   ],
   "source": [
    "checkpoint_path=\"/home/roopesh/PythonFiles/taininig_dl/cp-{epoch:04d}.ckpt\"#\"taininig_dl/cp-{epoch:04d}.ckpt\"\n",
    "checkpoint_dir=os.path.dirname(checkpoint_path)\n",
    "cp_callback=tf.keras.callbacks.ModelCheckpoint(checkpoint_path,verbose=1,save_weights_only=True,save_freq=2)#to create checkpoints after every 5 epoch .period=5\n",
    "model =create_model()\n",
    "datagen = ImageDataGenerator(\n",
    "        rotation_range=0.5, \n",
    "        zoom_range = 0.5, \n",
    "        width_shift_range=0.5,  \n",
    "        height_shift_range=0.5, \n",
    "        horizontal_flip=True, \n",
    "        vertical_flip=True)\n",
    "\n",
    "datagen.fit(x_train)\n",
    "\n",
    "model.fit_generator(datagen.flow(x_train,y_train, batch_size=200),\n",
    "                              epochs = 21, validation_data = (x_val,y_val), steps_per_epoch=200)"
   ]
  },
  {
   "cell_type": "code",
   "execution_count": 21,
   "metadata": {},
   "outputs": [
    {
     "name": "stdout",
     "output_type": "stream",
     "text": [
      "checkpoint\t\t    DeepLearning_old.ipynb\t\t taining_dl\r\n",
      "colorectal-histology-mnist  easy_checkpoint.data-00000-of-00001\r\n",
      "DeepLearning.ipynb\t    easy_checkpoint.index\r\n"
     ]
    }
   ],
   "source": [
    "checkpoint_path=\"/home/roopesh/PythonFiles/\"\n",
    "checkpoint_dir=os.path.dirname(checkpoint_path)\n",
    "!ls {checkpoint_dir}\n",
    "#latest=tf.train.latest_checkpoint(checkpoint_dir)"
   ]
  },
  {
   "cell_type": "code",
   "execution_count": 22,
   "metadata": {},
   "outputs": [
    {
     "data": {
      "image/png": "[encoded data removed]",
      "text/plain": [
       "<Figure size 1296x1152 with 2 Axes>"
      ]
     },
     "metadata": {
      "needs_background": "light"
     },
     "output_type": "display_data"
    }
   ],
   "source": [
    "# Predict the values from the validation dataset\n",
    "Y_pred = model.predict(x_val)\n",
    "# Convert predictions classes to one hot vectors \n",
    "Y_pred_classes = np.argmax(Y_pred,axis = 1) \n",
    "# Convert validation observations to one hot vectors\n",
    "Y_true = np.argmax(y_val,axis = 1) \n",
    "# compute the confusion matrix\n",
    "confusion_mtx = confusion_matrix(Y_true, Y_pred_classes) \n",
    "# plot the confusion matrix\n",
    "f,ax = plt.subplots(figsize=(18, 16))\n",
    "sns.heatmap(confusion_mtx, annot=True, linewidths=0.01,cmap=\"summer_r\", fmt= '.1f',ax=ax)\n",
    "plt.xlabel(\"Predicted Label\")\n",
    "plt.ylabel(\"True Label\")\n",
    "plt.title(\"Confusion Matrix\")\n",
    "plt.show()"
   ]
  },
  {
   "cell_type": "code",
   "execution_count": 23,
   "metadata": {},
   "outputs": [],
   "source": [
    "model.save('dl_acc_80.h5')"
   ]
  },
  {
   "cell_type": "code",
   "execution_count": 25,
   "metadata": {},
   "outputs": [
    {
     "name": "stdout",
     "output_type": "stream",
     "text": [
      "1000/1000 [==============================] - 14s 14ms/step\n",
      "Untrained accuracy is :15.00%\n"
     ]
    }
   ],
   "source": [
    "model=create_model()\n",
    "loss,acc=model.evaluate(x_val,y_val)\n",
    "print(\"Untrained accuracy is :{:5.2f}%\".format(100*acc))"
   ]
  },
  {
   "cell_type": "code",
   "execution_count": 30,
   "metadata": {},
   "outputs": [
    {
     "data": {
      "text/plain": [
       "'/home/roopesh/PythonFiles/easy_checkpoint'"
      ]
     },
     "execution_count": 30,
     "metadata": {},
     "output_type": "execute_result"
    }
   ],
   "source": [
    "checkpoint_path=\"/home/roopesh/PythonFiles/\"\n",
    "checkpoint_dir=os.path.dirname(checkpoint_path)\n",
    "latest=tf.train.latest_checkpoint(checkpoint_dir)\n",
    "latest"
   ]
  },
  {
   "cell_type": "code",
   "execution_count": 32,
   "metadata": {},
   "outputs": [
    {
     "name": "stdout",
     "output_type": "stream",
     "text": [
      "Model: \"sequential_3\"\n",
      "_________________________________________________________________\n",
      "Layer (type)                 Output Shape              Param #   \n",
      "=================================================================\n",
      "conv2d_7 (Conv2D)            (None, 64, 64, 128)       3328      \n",
      "_________________________________________________________________\n",
      "max_pooling2d_7 (MaxPooling2 (None, 32, 32, 128)       0         \n",
      "_________________________________________________________________\n",
      "dropout_7 (Dropout)          (None, 32, 32, 128)       0         \n",
      "_________________________________________________________________\n",
      "conv2d_8 (Conv2D)            (None, 32, 32, 64)        73792     \n",
      "_________________________________________________________________\n",
      "max_pooling2d_8 (MaxPooling2 (None, 16, 16, 64)        0         \n",
      "_________________________________________________________________\n",
      "dropout_8 (Dropout)          (None, 16, 16, 64)        0         \n",
      "_________________________________________________________________\n",
      "conv2d_9 (Conv2D)            (None, 16, 16, 64)        36928     \n",
      "_________________________________________________________________\n",
      "max_pooling2d_9 (MaxPooling2 (None, 8, 8, 64)          0         \n",
      "_________________________________________________________________\n",
      "dropout_9 (Dropout)          (None, 8, 8, 64)          0         \n",
      "_________________________________________________________________\n",
      "flatten_3 (Flatten)          (None, 4096)              0         \n",
      "_________________________________________________________________\n",
      "dense_9 (Dense)              (None, 256)               1048832   \n",
      "_________________________________________________________________\n",
      "dense_10 (Dense)             (None, 64)                16448     \n",
      "_________________________________________________________________\n",
      "dense_11 (Dense)             (None, 32)                2080      \n",
      "_________________________________________________________________\n",
      "dense_12 (Dense)             (None, 9)                 297       \n",
      "=================================================================\n",
      "Total params: 1,181,705\n",
      "Trainable params: 1,181,705\n",
      "Non-trainable params: 0\n",
      "_________________________________________________________________\n"
     ]
    }
   ],
   "source": [
    "new_model=keras.models.load_model('dl_acc_80.h5')\n",
    "new_model.summary()"
   ]
  },
  {
   "cell_type": "code",
   "execution_count": 33,
   "metadata": {},
   "outputs": [
    {
     "name": "stdout",
     "output_type": "stream",
     "text": [
      "1000/1000 [==============================] - 13s 13ms/sample - loss: 0.5503 - accuracy: 0.7980\n",
      "Trained accuracy is :79.80%\n"
     ]
    }
   ],
   "source": [
    "#checkpoint_path=\"/home/roopesh/PythonFiles/\"\n",
    "#model.load_weights(latest)\n",
    "loss,acc=new_model.evaluate(x_val,y_val)\n",
    "print(\"Trained accuracy is :{:5.2f}%\".format(100*acc))"
   ]
  },
  {
   "cell_type": "code",
   "execution_count": null,
   "metadata": {},
   "outputs": [],
   "source": [
    "model.save('dl_acc_80.h5')"
   ]
  },
  {
   "cell_type": "code",
   "execution_count": null,
   "metadata": {},
   "outputs": [],
   "source": []
  },
  {
   "cell_type": "code",
   "execution_count": null,
   "metadata": {},
   "outputs": [],
   "source": [
    "#model.save_weights(./checkpoints/my_checkpoints)#save the weights\n",
    "#model=create_model()\n",
    "#model.load_weights('./checkpoints/my_checkpoints')\n",
    "#loss,acc=model.evaluate()\n",
    "#Save the entire model\n",
    "#model =create_model()\n",
    "#model.fit_generator(datagen.flow(x_train,y_train, batch_size=200),epochs = 20, validation_data = (x_val,y_val), steps_per_epoch=500)\n",
    "#model.save('my_model.h5')\n",
    "#"
   ]
  },
  {
   "cell_type": "code",
   "execution_count": null,
   "metadata": {},
   "outputs": [],
   "source": [
    "#datagen = ImageDataGenerator(\n",
    " #       rotation_range=0.5, \n",
    "  #      zoom_range = 0.5, \n",
    "   #     width_shift_range=0.5,  \n",
    "    #    height_shift_range=0.5, \n",
    "     #   horizontal_flip=True, \n",
    "      #  vertical_flip=True)\n",
    "\n",
    "#datagen.fit(x_train)"
   ]
  },
  {
   "cell_type": "code",
   "execution_count": null,
   "metadata": {},
   "outputs": [],
   "source": []
  }
 ],
 "metadata": {
  "kernelspec": {
   "display_name": "Python 3",
   "language": "python",
   "name": "python3"
  },
  "language_info": {
   "codemirror_mode": {
    "name": "ipython",
    "version": 3
   },
   "file_extension": ".py",
   "mimetype": "text/x-python",
   "name": "python",
   "nbconvert_exporter": "python",
   "pygments_lexer": "ipython3",
   "version": "3.7.6"
  }
 },
 "nbformat": 4,
 "nbformat_minor": 2
}
